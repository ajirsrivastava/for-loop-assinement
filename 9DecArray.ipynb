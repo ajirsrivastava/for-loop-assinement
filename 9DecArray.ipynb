{
 "cells": [
  {
   "cell_type": "code",
   "execution_count": 1,
   "id": "e87ce892-58ab-4e82-82f8-37880d264741",
   "metadata": {},
   "outputs": [],
   "source": [
    "#Problem 1 : Find the Rotation Count in Rotated Sorted array Input: arr[] = {15, 18, 2, 3, 6, 12} \n",
    " #          Output: 2 Explanation: Initial array must be {2, 3, 6, 12, 15, 18}. \n",
    "  #          We get the given array after rotating the initial array twice."
   ]
  },
  {
   "cell_type": "code",
   "execution_count": 12,
   "id": "73524d83-1359-41b2-8d7b-9c03d02454f5",
   "metadata": {},
   "outputs": [],
   "source": [
    "def countRotations(arr):\n",
    "    min = arr[0]\n",
    "    min_index = 0\n",
    "    for i in range(1,len(arr)):\n",
    "        if(min>arr[i]):\n",
    "            min = arr[i]\n",
    "            min_index = i\n",
    "    return min_index"
   ]
  },
  {
   "cell_type": "code",
   "execution_count": 13,
   "id": "02d97c31-4823-4ccb-bf40-792ef4b605a0",
   "metadata": {},
   "outputs": [
    {
     "name": "stdout",
     "output_type": "stream",
     "text": [
      "2\n"
     ]
    }
   ],
   "source": [
    "print(countRotations([15,18,2,3,6,12]))"
   ]
  },
  {
   "cell_type": "code",
   "execution_count": 15,
   "id": "94db41ee-1153-401f-a7a3-a43900dcb9ec",
   "metadata": {},
   "outputs": [],
   "source": [
    "#Problem 2 : Given an array of integers, print the array in such a way \n",
    "#that the first element is first maximum and second element is first minimum and so on. \n",
    "#Examples : Input : arr[] = {7, 1, 2, 3, 4, 5, 6} Output : 7 1 6 2 5 3 4\n"
   ]
  },
  {
   "cell_type": "code",
   "execution_count": 16,
   "id": "51e31f8b-3af2-424b-ad42-e57358779373",
   "metadata": {},
   "outputs": [
    {
     "name": "stdout",
     "output_type": "stream",
     "text": [
      "Output: 7 1 6 2 5 3 4\n"
     ]
    }
   ],
   "source": [
    "def alternate_sort(arr):\n",
    "    arr.sort()  # Sort the array in ascending order\n",
    "    n = len(arr)\n",
    "    result = [0] * n\n",
    "    left, right = 0, n - 1\n",
    "\n",
    "    for i in range(n):\n",
    "        if i % 2 == 0:\n",
    "            result[i] = arr[right]\n",
    "            right -= 1\n",
    "        else:\n",
    "            result[i] = arr[left]\n",
    "            left += 1\n",
    "\n",
    "    return result\n",
    "\n",
    "# Example usage:\n",
    "arr = [7, 1, 2, 3, 4, 5, 6]\n",
    "result = alternate_sort(arr)\n",
    "print(\"Output:\", ' '.join(map(str, result)))"
   ]
  },
  {
   "cell_type": "code",
   "execution_count": 19,
   "id": "b9df84ca-38e8-487d-aec4-150d335b08fb",
   "metadata": {},
   "outputs": [
    {
     "name": "stdout",
     "output_type": "stream",
     "text": [
      "8 1 6 2 5 3 4 "
     ]
    }
   ],
   "source": [
    "def bubbleSort(arr):\n",
    "    for i in range(len(arr)-1,0,-1):\n",
    "        for j in range(i):\n",
    "            if arr[j]>arr[j+1]:\n",
    "                arr[j],arr[j+1]=arr[j+1],arr[j]\n",
    "\n",
    "def printInOrder(arr):\n",
    "  bubbleSort(arr)\n",
    "  left=0\n",
    "  right=len(arr)-1\n",
    "  while left<=right:\n",
    "    if left == right :\n",
    "      print(arr[left], end=\" \")\n",
    "    else :\n",
    "      print(arr[right], end=\" \")\n",
    "      print(arr[left], end=\" \")\n",
    "    left+=1\n",
    "    right-=1\n",
    "\n",
    "printInOrder([3,5,1,2,8,6,4])\n"
   ]
  },
  {
   "cell_type": "code",
   "execution_count": null,
   "id": "dd262d82-16ca-4278-bf4a-9b2d7180fa81",
   "metadata": {},
   "outputs": [],
   "source": [
    "#Problem 3 : Sort an array in wave form Given an unsorted array of integers, sort the array into a wave like array. An array ‘arr[0..n-1]’ is sorted in wave form \n",
    "#if arr[0] >= arr[1] <= arr[2] >= arr[3] <= arr[4] >= ….. Examples: Input: arr[] = {10, 5, 6, 3, 2, 20, 100, 80} \n",
    "#Output: arr[] = {10, 5, 6, 2, 20, 3, 100, 80} OR {20, 5, 10, 2, 80, 6, 100, 3} OR any other array that is in wave form"
   ]
  },
  {
   "cell_type": "code",
   "execution_count": 18,
   "id": "04177eba-49bd-472e-8567-0b4c0235802c",
   "metadata": {},
   "outputs": [
    {
     "name": "stdout",
     "output_type": "stream",
     "text": [
      "Output: [3, 2, 6, 5, 20, 10, 100, 80]\n"
     ]
    }
   ],
   "source": [
    "def sort_in_wave(arr):\n",
    "    arr.sort()  # Sort the array in ascending order\n",
    "    n = len(arr)\n",
    "    \n",
    "    # Swap adjacent elements to create the wave-like array\n",
    "    for i in range(0, n - 1, 2):\n",
    "        arr[i], arr[i + 1] = arr[i + 1], arr[i]\n",
    "    \n",
    "    return arr\n",
    "\n",
    "# Example usage:\n",
    "arr = [10, 5, 6, 3, 2, 20, 100, 80]\n",
    "result = sort_in_wave(arr)\n",
    "print(\"Output:\", result)"
   ]
  },
  {
   "cell_type": "code",
   "execution_count": 29,
   "id": "cb2e1c61-04b6-42e7-8f00-7bad5415a3b0",
   "metadata": {},
   "outputs": [
    {
     "name": "stdout",
     "output_type": "stream",
     "text": [
      "[10, 90, 49, 3, 2, 5, 1, 23]\n"
     ]
    }
   ],
   "source": [
    "def sortInWave(arr):\n",
    "    for i in range(0,len(arr)-1,2):\n",
    "        if( i>0 and arr[i]>arr[i-1]):\n",
    "            arr[i] , arr[i-1] = arr[i-1],arr[i]\n",
    "\n",
    "    #Compare with the right element\n",
    "    if(i<len(arr)-1 and arr[i] > arr[i+1]):\n",
    "            arr[i],arr[i+1]=arr[i+1],arr[i]\n",
    "\n",
    "arr = [10,90,49,2,3,1,5,23]\n",
    "sortInWave(arr)\n",
    "print(arr)"
   ]
  },
  {
   "cell_type": "code",
   "execution_count": 20,
   "id": "971a1f24-fb5b-45bb-b5fd-8b6914f996d2",
   "metadata": {},
   "outputs": [],
   "source": [
    "#Problem 4 : Merge an array of size n into another array of size m+n in sorted order"
   ]
  },
  {
   "cell_type": "code",
   "execution_count": 21,
   "id": "52f56d9d-1b8a-4f18-9528-c50200ae6180",
   "metadata": {},
   "outputs": [
    {
     "name": "stdout",
     "output_type": "stream",
     "text": [
      "Merged and sorted array: [1, 2, 3, 5, 6, 8]\n"
     ]
    }
   ],
   "source": [
    "def merge(arr1, arr2, m, n):\n",
    "    # Copy elements from arr2 to an auxiliary array for safety\n",
    "    aux = arr2[:m]\n",
    "\n",
    "    # Initialize pointers for arrays arr1, aux, and arr2\n",
    "    i = 0  # Pointer for auxiliary array aux\n",
    "    j = 0  # Pointer for arr1\n",
    "    k = 0  # Pointer for arr2 (merged array)\n",
    "\n",
    "    # Merge elements from arr1 and aux into arr2\n",
    "    while i < m and j < n:\n",
    "        if aux[i] <= arr1[j]:\n",
    "            arr2[k] = aux[i]\n",
    "            i += 1\n",
    "        else:\n",
    "            arr2[k] = arr1[j]\n",
    "            j += 1\n",
    "        k += 1\n",
    "\n",
    "    # Copy remaining elements from aux and arr1 if any\n",
    "    while i < m:\n",
    "        arr2[k] = aux[i]\n",
    "        i += 1\n",
    "        k += 1\n",
    "\n",
    "    while j < n:\n",
    "        arr2[k] = arr1[j]\n",
    "        j += 1\n",
    "        k += 1\n",
    "\n",
    "# Example usage:\n",
    "arr1 = [2, 5, 8]\n",
    "arr2 = [1, 3, 6, None, None, None]  # The None values represent empty space in the array\n",
    "merge(arr1, arr2, len(arr1), len(arr2) - len(arr1))\n",
    "\n",
    "print(\"Merged and sorted array:\", arr2)"
   ]
  },
  {
   "cell_type": "code",
   "execution_count": 23,
   "id": "a0f61a91-eb0e-4af9-8a02-639b8dbb864f",
   "metadata": {},
   "outputs": [],
   "source": [
    "#Problem 5 : Sort an array containing two types of elements We are given an array of 0s and 1s in random order. \n",
    "##Segregate 0s on left side and 1s on right side of the array. Traverse array only once. \n",
    "#Examples: Input : arr[] = [0, 1, 0, 1, 0, 0, 1, 1, 1, 0] Output : arr[] = [0, 0, 0, 0, 0, 1, 1, 1, 1, 1]"
   ]
  },
  {
   "cell_type": "code",
   "execution_count": 24,
   "id": "e2c212ae-5da8-405f-a60b-0b4f92fba4c6",
   "metadata": {},
   "outputs": [
    {
     "name": "stdout",
     "output_type": "stream",
     "text": [
      "Output: [0, 0, 0, 0, 0, 1, 1, 1, 1, 1]\n"
     ]
    }
   ],
   "source": [
    "def segregate_0s_1s(arr):\n",
    "    left = 0  # Pointer for 0s, initially pointing to the start of the array\n",
    "    right = len(arr) - 1  # Pointer for 1s, initially pointing to the end of the array\n",
    "\n",
    "    current = 0  # Pointer to traverse the array\n",
    "\n",
    "    while current <= right:\n",
    "        if arr[current] == 0:\n",
    "            # Swap arr[current] and arr[left]\n",
    "            arr[current], arr[left] = arr[left], arr[current]\n",
    "            left += 1  # Move the pointer for 0s to the right\n",
    "            current += 1  # Move to the next element\n",
    "        elif arr[current] == 1:\n",
    "            # No need to swap as 1s should be on the right side\n",
    "            current += 1  # Move to the next element\n",
    "        else:\n",
    "            # If elements other than 0 or 1 are present, handle accordingly\n",
    "            # In this case, assuming only 0s and 1s are present, so no extra handling required\n",
    "            pass\n",
    "\n",
    "    return arr\n",
    "\n",
    "# Example usage:\n",
    "arr = [0, 1, 0, 1, 0, 0, 1, 1, 1, 0]\n",
    "result = segregate_0s_1s(arr)\n",
    "print(\"Output:\", result)"
   ]
  },
  {
   "cell_type": "code",
   "execution_count": null,
   "id": "af7d9652-0b0b-4147-b3fb-d28f135e070b",
   "metadata": {},
   "outputs": [],
   "source": []
  }
 ],
 "metadata": {
  "kernelspec": {
   "display_name": "Python 3 (ipykernel)",
   "language": "python",
   "name": "python3"
  },
  "language_info": {
   "codemirror_mode": {
    "name": "ipython",
    "version": 3
   },
   "file_extension": ".py",
   "mimetype": "text/x-python",
   "name": "python",
   "nbconvert_exporter": "python",
   "pygments_lexer": "ipython3",
   "version": "3.10.8"
  }
 },
 "nbformat": 4,
 "nbformat_minor": 5
}
